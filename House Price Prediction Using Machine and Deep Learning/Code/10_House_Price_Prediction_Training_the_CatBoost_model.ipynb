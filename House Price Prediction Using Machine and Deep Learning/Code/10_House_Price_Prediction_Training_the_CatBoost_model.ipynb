{
  "nbformat": 4,
  "nbformat_minor": 0,
  "metadata": {
    "colab": {
      "name": "10 House Price Prediction - Training the CatBoost model.ipynb",
      "provenance": [],
      "collapsed_sections": []
    },
    "kernelspec": {
      "display_name": "Python 3",
      "name": "python3"
    }
  },
  "cells": [
    {
      "cell_type": "markdown",
      "metadata": {
        "id": "VgsTbVadxHaD"
      },
      "source": [
        "# House Price Prediction"
      ]
    },
    {
      "cell_type": "markdown",
      "metadata": {
        "id": "zypbQIMMxHFh"
      },
      "source": [
        "## Importing the libraries"
      ]
    },
    {
      "cell_type": "code",
      "metadata": {
        "id": "FHw5TqhxlfFI"
      },
      "source": [
        "import numpy as np\r\n",
        "import pandas as pd\r\n",
        "import seaborn as sns\r\n",
        "import matplotlib.pyplot as plt\r\n",
        "\r\n",
        "from sklearn.model_selection import train_test_split\r\n",
        "from sklearn.preprocessing import StandardScaler\r\n",
        "from sklearn.model_selection import GridSearchCV\r\n",
        "from model_utils import report, cv_scores\r\n",
        "\r\n",
        "from catboost import CatBoostRegressor"
      ],
      "execution_count": null,
      "outputs": []
    },
    {
      "cell_type": "markdown",
      "metadata": {
        "id": "WNMnFkrO1fsq"
      },
      "source": [
        "## Data Preprecessing"
      ]
    },
    {
      "cell_type": "markdown",
      "metadata": {
        "id": "74sNBtY1xNvc"
      },
      "source": [
        "### Importing the dataset"
      ]
    },
    {
      "cell_type": "code",
      "metadata": {
        "id": "Po-wVuKMK-Pr"
      },
      "source": [
        "X = pd.read_csv('X.csv')\r\n",
        "y = pd.read_csv('y.csv')"
      ],
      "execution_count": null,
      "outputs": []
    },
    {
      "cell_type": "markdown",
      "metadata": {
        "id": "s0w-rCVbxTHU"
      },
      "source": [
        "### Splitting the dataset into the Training set and Test set "
      ]
    },
    {
      "cell_type": "code",
      "metadata": {
        "id": "T6Xv9S5xxzJE"
      },
      "source": [
        "X_train, X_test, y_train, y_test = train_test_split(X, y, test_size = 0.2, random_state = 0)"
      ],
      "execution_count": null,
      "outputs": []
    },
    {
      "cell_type": "markdown",
      "metadata": {
        "id": "XMSbjnsNzcxi"
      },
      "source": [
        "### Feature Scaling"
      ]
    },
    {
      "cell_type": "code",
      "metadata": {
        "id": "GbZ1xPsLzdnE"
      },
      "source": [
        "sc_X = StandardScaler()\r\n",
        "sc_y = StandardScaler()\r\n",
        "\r\n",
        "X_train_sc = sc_X.fit_transform(X_train)\r\n",
        "X_test_sc = sc_X.transform(X_test)\r\n",
        "\r\n",
        "y_train_sc = sc_y.fit_transform(y_train)\r\n",
        "y_test_sc = sc_y.transform(y_test)"
      ],
      "execution_count": null,
      "outputs": []
    },
    {
      "cell_type": "markdown",
      "metadata": {
        "id": "YaBnqhdixpC1"
      },
      "source": [
        "## Training the CatBoost model"
      ]
    },
    {
      "cell_type": "markdown",
      "metadata": {
        "id": "lTjxdCa_2df6"
      },
      "source": [
        "### Grid Search"
      ]
    },
    {
      "cell_type": "code",
      "metadata": {
        "colab": {
          "background_save": true,
          "base_uri": "https://localhost:8080/"
        },
        "id": "ttZC4Eaey87T",
        "outputId": "80056bc8-1d5a-4f9c-af91-d4a3f91b2854"
      },
      "source": [
        "'''\r\n",
        "param = {'depth': np.arange(3, 8),\r\n",
        "        'learning_rate': [0.03,0.001,0.01,0.1,0.2,0.3],\r\n",
        "        'l2_leaf_reg':[3,1,5,10,100],\r\n",
        "        'border_count':[32,5,10,20,50,100,200],\r\n",
        "        'iterations': [1000]}\r\n",
        "'''\r\n",
        "\r\n",
        "param = {'iterations': [2000],\r\n",
        "         'depth': np.arange(3, 10),\r\n",
        "         'loss_function': ['RMSE', 'MAE'],\r\n",
        "         'border_count':[16, 32, 64],\r\n",
        "         'l2_leaf_reg': [3, 6, 12]}\r\n",
        "\r\n",
        "gs = GridSearchCV(CatBoostRegressor(random_state=0, verbose=0), param_grid=param, scoring='r2', cv = 2)\r\n",
        "gs.fit(X_train_sc, y_train_sc.ravel())\r\n",
        "\r\n",
        "model = gs.best_estimator_\r\n",
        "print(gs.best_params_)"
      ],
      "execution_count": null,
      "outputs": [
        {
          "output_type": "stream",
          "text": [
            "{'border_count': 64, 'depth': 6, 'iterations': 2000, 'l2_leaf_reg': 3, 'loss_function': 'RMSE'}\n"
          ],
          "name": "stdout"
        }
      ]
    },
    {
      "cell_type": "markdown",
      "metadata": {
        "id": "7mKI7mzC2VzC"
      },
      "source": [
        "### Cross Validation (R-Squared)"
      ]
    },
    {
      "cell_type": "code",
      "metadata": {
        "id": "b35qOG5x33t8",
        "colab": {
          "base_uri": "https://localhost:8080/",
          "height": 681
        },
        "outputId": "c1da3a56-1020-4a7f-a536-6d83a81a4c64"
      },
      "source": [
        "cv_scores(model, X_train_sc, y_train_sc)"
      ],
      "execution_count": null,
      "outputs": [
        {
          "output_type": "display_data",
          "data": {
            "text/html": [
              "<div>\n",
              "<style scoped>\n",
              "    .dataframe tbody tr th:only-of-type {\n",
              "        vertical-align: middle;\n",
              "    }\n",
              "\n",
              "    .dataframe tbody tr th {\n",
              "        vertical-align: top;\n",
              "    }\n",
              "\n",
              "    .dataframe thead th {\n",
              "        text-align: right;\n",
              "    }\n",
              "</style>\n",
              "<table border=\"1\" class=\"dataframe\">\n",
              "  <thead>\n",
              "    <tr style=\"text-align: right;\">\n",
              "      <th></th>\n",
              "      <th>Scores</th>\n",
              "    </tr>\n",
              "  </thead>\n",
              "  <tbody>\n",
              "    <tr>\n",
              "      <th>Split 1</th>\n",
              "      <td>0.90957</td>\n",
              "    </tr>\n",
              "    <tr>\n",
              "      <th>Split 2</th>\n",
              "      <td>0.93407</td>\n",
              "    </tr>\n",
              "    <tr>\n",
              "      <th>Split 3</th>\n",
              "      <td>0.87507</td>\n",
              "    </tr>\n",
              "    <tr>\n",
              "      <th>Split 4</th>\n",
              "      <td>0.94595</td>\n",
              "    </tr>\n",
              "    <tr>\n",
              "      <th>Split 5</th>\n",
              "      <td>0.88275</td>\n",
              "    </tr>\n",
              "    <tr>\n",
              "      <th>Split 6</th>\n",
              "      <td>0.92512</td>\n",
              "    </tr>\n",
              "    <tr>\n",
              "      <th>Split 7</th>\n",
              "      <td>0.91238</td>\n",
              "    </tr>\n",
              "    <tr>\n",
              "      <th>Split 8</th>\n",
              "      <td>0.93417</td>\n",
              "    </tr>\n",
              "    <tr>\n",
              "      <th>Split 9</th>\n",
              "      <td>0.91867</td>\n",
              "    </tr>\n",
              "    <tr>\n",
              "      <th>Split 10</th>\n",
              "      <td>0.93347</td>\n",
              "    </tr>\n",
              "    <tr>\n",
              "      <th>CV Score</th>\n",
              "      <td>0.91712</td>\n",
              "    </tr>\n",
              "  </tbody>\n",
              "</table>\n",
              "</div>"
            ],
            "text/plain": [
              "           Scores\n",
              "Split 1   0.90957\n",
              "Split 2   0.93407\n",
              "Split 3   0.87507\n",
              "Split 4   0.94595\n",
              "Split 5   0.88275\n",
              "Split 6   0.92512\n",
              "Split 7   0.91238\n",
              "Split 8   0.93417\n",
              "Split 9   0.91867\n",
              "Split 10  0.93347\n",
              "CV Score  0.91712"
            ]
          },
          "metadata": {
            "tags": []
          }
        },
        {
          "output_type": "display_data",
          "data": {
            "image/png": "[encoded data removed]",
            "text/plain": [
              "<Figure size 720x360 with 1 Axes>"
            ]
          },
          "metadata": {
            "tags": [],
            "needs_background": "light"
          }
        }
      ]
    },
    {
      "cell_type": "markdown",
      "metadata": {
        "id": "PnffqrxT5Z11"
      },
      "source": [
        "### Testing data"
      ]
    },
    {
      "cell_type": "code",
      "metadata": {
        "id": "XHK0Oj_j2Asi",
        "colab": {
          "base_uri": "https://localhost:8080/",
          "height": 550
        },
        "outputId": "fc740da6-d193-4678-a95f-d05fe5b4d83b"
      },
      "source": [
        "y_pred = model.predict(X_test_sc)\r\n",
        "\r\n",
        "report(y_test, sc_y.inverse_transform(y_pred))"
      ],
      "execution_count": null,
      "outputs": [
        {
          "output_type": "display_data",
          "data": {
            "text/html": [
              "<div>\n",
              "<style scoped>\n",
              "    .dataframe tbody tr th:only-of-type {\n",
              "        vertical-align: middle;\n",
              "    }\n",
              "\n",
              "    .dataframe tbody tr th {\n",
              "        vertical-align: top;\n",
              "    }\n",
              "\n",
              "    .dataframe thead th {\n",
              "        text-align: right;\n",
              "    }\n",
              "</style>\n",
              "<table border=\"1\" class=\"dataframe\">\n",
              "  <thead>\n",
              "    <tr style=\"text-align: right;\">\n",
              "      <th></th>\n",
              "      <th>Value</th>\n",
              "    </tr>\n",
              "    <tr>\n",
              "      <th>Metric</th>\n",
              "      <th></th>\n",
              "    </tr>\n",
              "  </thead>\n",
              "  <tbody>\n",
              "    <tr>\n",
              "      <th>R2 Score</th>\n",
              "      <td>0.929133</td>\n",
              "    </tr>\n",
              "    <tr>\n",
              "      <th>MAE</th>\n",
              "      <td>42669.890923</td>\n",
              "    </tr>\n",
              "    <tr>\n",
              "      <th>RMSE</th>\n",
              "      <td>55728.831378</td>\n",
              "    </tr>\n",
              "  </tbody>\n",
              "</table>\n",
              "</div>"
            ],
            "text/plain": [
              "                 Value\n",
              "Metric                \n",
              "R2 Score      0.929133\n",
              "MAE       42669.890923\n",
              "RMSE      55728.831378"
            ]
          },
          "metadata": {
            "tags": []
          }
        },
        {
          "output_type": "display_data",
          "data": {
            "image/png": "[encoded data removed]",
            "text/plain": [
              "<Figure size 720x432 with 1 Axes>"
            ]
          },
          "metadata": {
            "tags": [],
            "needs_background": "light"
          }
        }
      ]
    },
    {
      "cell_type": "code",
      "metadata": {
        "id": "co4O924tUvHp"
      },
      "source": [
        ""
      ],
      "execution_count": null,
      "outputs": []
    }
  ]
}