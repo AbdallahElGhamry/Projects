{
  "nbformat": 4,
  "nbformat_minor": 0,
  "metadata": {
    "colab": {
      "name": "2 House Price Prediction - Training the SVM model.ipynb",
      "provenance": [],
      "collapsed_sections": []
    },
    "kernelspec": {
      "name": "python3",
      "display_name": "Python 3"
    }
  },
  "cells": [
    {
      "cell_type": "markdown",
      "metadata": {
        "id": "VgsTbVadxHaD"
      },
      "source": [
        "# House Price Prediction"
      ]
    },
    {
      "cell_type": "markdown",
      "metadata": {
        "id": "zypbQIMMxHFh"
      },
      "source": [
        "## Importing the libraries"
      ]
    },
    {
      "cell_type": "code",
      "metadata": {
        "id": "FHw5TqhxlfFI"
      },
      "source": [
        "import numpy as np\r\n",
        "import pandas as pd\r\n",
        "import seaborn as sns\r\n",
        "import matplotlib.pyplot as plt\r\n",
        "\r\n",
        "from sklearn.model_selection import train_test_split\r\n",
        "from sklearn.preprocessing import StandardScaler\r\n",
        "from sklearn.model_selection import GridSearchCV\r\n",
        "from model_utils import report, cv_scores\r\n",
        "\r\n",
        "from sklearn.svm import SVR"
      ],
      "execution_count": 1,
      "outputs": []
    },
    {
      "cell_type": "markdown",
      "metadata": {
        "id": "WNMnFkrO1fsq"
      },
      "source": [
        "## Data Preprecessing"
      ]
    },
    {
      "cell_type": "markdown",
      "metadata": {
        "id": "74sNBtY1xNvc"
      },
      "source": [
        "### Importing the dataset"
      ]
    },
    {
      "cell_type": "code",
      "metadata": {
        "id": "Po-wVuKMK-Pr"
      },
      "source": [
        "X = pd.read_csv('X.csv')\r\n",
        "y = pd.read_csv('y.csv')"
      ],
      "execution_count": 2,
      "outputs": []
    },
    {
      "cell_type": "markdown",
      "metadata": {
        "id": "s0w-rCVbxTHU"
      },
      "source": [
        "### Splitting the dataset into the Training set and Test set "
      ]
    },
    {
      "cell_type": "code",
      "metadata": {
        "id": "T6Xv9S5xxzJE"
      },
      "source": [
        "X_train, X_test, y_train, y_test = train_test_split(X, y, test_size = 0.2, random_state = 0)"
      ],
      "execution_count": 3,
      "outputs": []
    },
    {
      "cell_type": "markdown",
      "metadata": {
        "id": "XMSbjnsNzcxi"
      },
      "source": [
        "### Feature Scaling"
      ]
    },
    {
      "cell_type": "code",
      "metadata": {
        "id": "GbZ1xPsLzdnE"
      },
      "source": [
        "sc_X = StandardScaler()\r\n",
        "sc_y = StandardScaler()\r\n",
        "\r\n",
        "X_train_sc = sc_X.fit_transform(X_train)\r\n",
        "X_test_sc = sc_X.transform(X_test)\r\n",
        "\r\n",
        "y_train_sc = sc_y.fit_transform(y_train)\r\n",
        "y_test_sc = sc_y.transform(y_test)"
      ],
      "execution_count": 4,
      "outputs": []
    },
    {
      "cell_type": "markdown",
      "metadata": {
        "id": "YaBnqhdixpC1"
      },
      "source": [
        "## Training the SVM model"
      ]
    },
    {
      "cell_type": "markdown",
      "metadata": {
        "id": "lTjxdCa_2df6"
      },
      "source": [
        "### Grid Search"
      ]
    },
    {
      "cell_type": "code",
      "metadata": {
        "id": "ttZC4Eaey87T",
        "colab": {
          "base_uri": "https://localhost:8080/"
        },
        "outputId": "16a2c46d-f6ed-45b9-9d1d-020c2d443f75"
      },
      "source": [
        "param = [{'C': [0.1, 1, 10], 'kernel': ['linear', 'rbf', 'sigmoid', 'poly']}]\r\n",
        "\r\n",
        "gs = GridSearchCV(SVR(), param_grid=param, scoring='r2', cv = 10)\r\n",
        "gs.fit(X_train_sc, y_train_sc.ravel())\r\n",
        "\r\n",
        "model = gs.best_estimator_\r\n",
        "print(gs.best_params_)"
      ],
      "execution_count": 5,
      "outputs": [
        {
          "output_type": "stream",
          "text": [
            "{'C': 10, 'kernel': 'rbf'}\n"
          ],
          "name": "stdout"
        }
      ]
    },
    {
      "cell_type": "markdown",
      "metadata": {
        "id": "7mKI7mzC2VzC"
      },
      "source": [
        "### Cross Validation (R-Squared)"
      ]
    },
    {
      "cell_type": "code",
      "metadata": {
        "colab": {
          "base_uri": "https://localhost:8080/",
          "height": 693
        },
        "id": "b35qOG5x33t8",
        "outputId": "11a9d094-c189-4897-abb1-37cc6f97220c"
      },
      "source": [
        "cv_scores(model, X_train_sc, y_train_sc)"
      ],
      "execution_count": 6,
      "outputs": [
        {
          "output_type": "display_data",
          "data": {
            "text/html": [
              "<div>\n",
              "<style scoped>\n",
              "    .dataframe tbody tr th:only-of-type {\n",
              "        vertical-align: middle;\n",
              "    }\n",
              "\n",
              "    .dataframe tbody tr th {\n",
              "        vertical-align: top;\n",
              "    }\n",
              "\n",
              "    .dataframe thead th {\n",
              "        text-align: right;\n",
              "    }\n",
              "</style>\n",
              "<table border=\"1\" class=\"dataframe\">\n",
              "  <thead>\n",
              "    <tr style=\"text-align: right;\">\n",
              "      <th></th>\n",
              "      <th>Scores</th>\n",
              "    </tr>\n",
              "  </thead>\n",
              "  <tbody>\n",
              "    <tr>\n",
              "      <th>Split 1</th>\n",
              "      <td>0.91826</td>\n",
              "    </tr>\n",
              "    <tr>\n",
              "      <th>Split 2</th>\n",
              "      <td>0.93880</td>\n",
              "    </tr>\n",
              "    <tr>\n",
              "      <th>Split 3</th>\n",
              "      <td>0.85614</td>\n",
              "    </tr>\n",
              "    <tr>\n",
              "      <th>Split 4</th>\n",
              "      <td>0.93214</td>\n",
              "    </tr>\n",
              "    <tr>\n",
              "      <th>Split 5</th>\n",
              "      <td>0.85069</td>\n",
              "    </tr>\n",
              "    <tr>\n",
              "      <th>Split 6</th>\n",
              "      <td>0.93452</td>\n",
              "    </tr>\n",
              "    <tr>\n",
              "      <th>Split 7</th>\n",
              "      <td>0.92541</td>\n",
              "    </tr>\n",
              "    <tr>\n",
              "      <th>Split 8</th>\n",
              "      <td>0.94486</td>\n",
              "    </tr>\n",
              "    <tr>\n",
              "      <th>Split 9</th>\n",
              "      <td>0.91649</td>\n",
              "    </tr>\n",
              "    <tr>\n",
              "      <th>Split 10</th>\n",
              "      <td>0.95006</td>\n",
              "    </tr>\n",
              "    <tr>\n",
              "      <th>CV Score</th>\n",
              "      <td>0.91674</td>\n",
              "    </tr>\n",
              "  </tbody>\n",
              "</table>\n",
              "</div>"
            ],
            "text/plain": [
              "           Scores\n",
              "Split 1   0.91826\n",
              "Split 2   0.93880\n",
              "Split 3   0.85614\n",
              "Split 4   0.93214\n",
              "Split 5   0.85069\n",
              "Split 6   0.93452\n",
              "Split 7   0.92541\n",
              "Split 8   0.94486\n",
              "Split 9   0.91649\n",
              "Split 10  0.95006\n",
              "CV Score  0.91674"
            ]
          },
          "metadata": {
            "tags": []
          }
        },
        {
          "output_type": "display_data",
          "data": {
            "image/png": "[encoded data removed]",
            "text/plain": [
              "<Figure size 720x360 with 1 Axes>"
            ]
          },
          "metadata": {
            "tags": [],
            "needs_background": "light"
          }
        }
      ]
    },
    {
      "cell_type": "markdown",
      "metadata": {
        "id": "PnffqrxT5Z11"
      },
      "source": [
        "### Testing data"
      ]
    },
    {
      "cell_type": "code",
      "metadata": {
        "colab": {
          "base_uri": "https://localhost:8080/",
          "height": 555
        },
        "id": "XHK0Oj_j2Asi",
        "outputId": "a049e320-983f-4521-f192-5768cfbe9472"
      },
      "source": [
        "y_pred = model.predict(X_test_sc)\r\n",
        "\r\n",
        "report(y_test, sc_y.inverse_transform(y_pred))"
      ],
      "execution_count": 7,
      "outputs": [
        {
          "output_type": "display_data",
          "data": {
            "text/html": [
              "<div>\n",
              "<style scoped>\n",
              "    .dataframe tbody tr th:only-of-type {\n",
              "        vertical-align: middle;\n",
              "    }\n",
              "\n",
              "    .dataframe tbody tr th {\n",
              "        vertical-align: top;\n",
              "    }\n",
              "\n",
              "    .dataframe thead th {\n",
              "        text-align: right;\n",
              "    }\n",
              "</style>\n",
              "<table border=\"1\" class=\"dataframe\">\n",
              "  <thead>\n",
              "    <tr style=\"text-align: right;\">\n",
              "      <th></th>\n",
              "      <th>Value</th>\n",
              "    </tr>\n",
              "    <tr>\n",
              "      <th>Metric</th>\n",
              "      <th></th>\n",
              "    </tr>\n",
              "  </thead>\n",
              "  <tbody>\n",
              "    <tr>\n",
              "      <th>R2 Score</th>\n",
              "      <td>0.926817</td>\n",
              "    </tr>\n",
              "    <tr>\n",
              "      <th>MAE</th>\n",
              "      <td>39120.636632</td>\n",
              "    </tr>\n",
              "    <tr>\n",
              "      <th>RMSE</th>\n",
              "      <td>56632.300182</td>\n",
              "    </tr>\n",
              "  </tbody>\n",
              "</table>\n",
              "</div>"
            ],
            "text/plain": [
              "                 Value\n",
              "Metric                \n",
              "R2 Score      0.926817\n",
              "MAE       39120.636632\n",
              "RMSE      56632.300182"
            ]
          },
          "metadata": {
            "tags": []
          }
        },
        {
          "output_type": "display_data",
          "data": {
            "image/png": "[encoded data removed]",
            "text/plain": [
              "<Figure size 720x432 with 1 Axes>"
            ]
          },
          "metadata": {
            "tags": [],
            "needs_background": "light"
          }
        }
      ]
    }
  ]
}