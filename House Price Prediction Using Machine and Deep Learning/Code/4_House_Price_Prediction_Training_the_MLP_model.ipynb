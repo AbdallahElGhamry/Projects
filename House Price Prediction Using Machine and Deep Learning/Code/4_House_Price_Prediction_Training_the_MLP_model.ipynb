{
  "nbformat": 4,
  "nbformat_minor": 0,
  "metadata": {
    "colab": {
      "name": "4 House Price Prediction - Training the MLP model.ipynb",
      "provenance": [],
      "collapsed_sections": []
    },
    "kernelspec": {
      "name": "python3",
      "display_name": "Python 3"
    }
  },
  "cells": [
    {
      "cell_type": "markdown",
      "metadata": {
        "id": "VgsTbVadxHaD"
      },
      "source": [
        "# House Price Prediction"
      ]
    },
    {
      "cell_type": "markdown",
      "metadata": {
        "id": "zypbQIMMxHFh"
      },
      "source": [
        "## Importing the libraries"
      ]
    },
    {
      "cell_type": "code",
      "metadata": {
        "id": "FHw5TqhxlfFI"
      },
      "source": [
        "import numpy as np\r\n",
        "import pandas as pd\r\n",
        "import seaborn as sns\r\n",
        "import matplotlib.pyplot as plt\r\n",
        "\r\n",
        "from sklearn.model_selection import train_test_split\r\n",
        "from sklearn.preprocessing import StandardScaler\r\n",
        "from sklearn.model_selection import GridSearchCV\r\n",
        "from model_utils import report, cv_scores\r\n",
        "\r\n",
        "from sklearn.neural_network import MLPRegressor"
      ],
      "execution_count": 1,
      "outputs": []
    },
    {
      "cell_type": "markdown",
      "metadata": {
        "id": "WNMnFkrO1fsq"
      },
      "source": [
        "## Data Preprecessing"
      ]
    },
    {
      "cell_type": "markdown",
      "metadata": {
        "id": "74sNBtY1xNvc"
      },
      "source": [
        "### Importing the dataset"
      ]
    },
    {
      "cell_type": "code",
      "metadata": {
        "id": "Po-wVuKMK-Pr"
      },
      "source": [
        "X = pd.read_csv('X.csv')\r\n",
        "y = pd.read_csv('y.csv')"
      ],
      "execution_count": 2,
      "outputs": []
    },
    {
      "cell_type": "markdown",
      "metadata": {
        "id": "s0w-rCVbxTHU"
      },
      "source": [
        "### Splitting the dataset into the Training set and Test set "
      ]
    },
    {
      "cell_type": "code",
      "metadata": {
        "id": "T6Xv9S5xxzJE"
      },
      "source": [
        "X_train, X_test, y_train, y_test = train_test_split(X, y, test_size = 0.2, random_state = 0)"
      ],
      "execution_count": 3,
      "outputs": []
    },
    {
      "cell_type": "markdown",
      "metadata": {
        "id": "XMSbjnsNzcxi"
      },
      "source": [
        "### Feature Scaling"
      ]
    },
    {
      "cell_type": "code",
      "metadata": {
        "id": "GbZ1xPsLzdnE"
      },
      "source": [
        "sc_X = StandardScaler()\r\n",
        "sc_y = StandardScaler()\r\n",
        "\r\n",
        "X_train_sc = sc_X.fit_transform(X_train)\r\n",
        "X_test_sc = sc_X.transform(X_test)\r\n",
        "\r\n",
        "y_train_sc = sc_y.fit_transform(y_train)\r\n",
        "y_test_sc = sc_y.transform(y_test)"
      ],
      "execution_count": 4,
      "outputs": []
    },
    {
      "cell_type": "markdown",
      "metadata": {
        "id": "YaBnqhdixpC1"
      },
      "source": [
        "## Training the MLP model"
      ]
    },
    {
      "cell_type": "markdown",
      "metadata": {
        "id": "lTjxdCa_2df6"
      },
      "source": [
        "### Grid Search"
      ]
    },
    {
      "cell_type": "code",
      "metadata": {
        "id": "ttZC4Eaey87T",
        "colab": {
          "base_uri": "https://localhost:8080/"
        },
        "outputId": "a4ff307b-6b8e-4ce0-a081-92276a89246f"
      },
      "source": [
        "param = [{'activation': ['identity', 'logistic', 'tanh', 'relu']}]\r\n",
        "\r\n",
        "gs = GridSearchCV(MLPRegressor(random_state=0, max_iter=1000, solver='adam'), param_grid=param, scoring='r2', cv = 10)\r\n",
        "gs.fit(X_train_sc, y_train_sc.ravel())\r\n",
        "\r\n",
        "model = gs.best_estimator_\r\n",
        "print(gs.best_params_)"
      ],
      "execution_count": 5,
      "outputs": [
        {
          "output_type": "stream",
          "text": [
            "{'activation': 'tanh'}\n"
          ],
          "name": "stdout"
        }
      ]
    },
    {
      "cell_type": "markdown",
      "metadata": {
        "id": "7mKI7mzC2VzC"
      },
      "source": [
        "### Cross Validation (R-Squared)"
      ]
    },
    {
      "cell_type": "code",
      "metadata": {
        "colab": {
          "base_uri": "https://localhost:8080/",
          "height": 693
        },
        "id": "b35qOG5x33t8",
        "outputId": "2947d406-fc33-4751-8a1c-a098624a0778"
      },
      "source": [
        "cv_scores(model, X_train_sc, y_train_sc)"
      ],
      "execution_count": 6,
      "outputs": [
        {
          "output_type": "display_data",
          "data": {
            "text/html": [
              "<div>\n",
              "<style scoped>\n",
              "    .dataframe tbody tr th:only-of-type {\n",
              "        vertical-align: middle;\n",
              "    }\n",
              "\n",
              "    .dataframe tbody tr th {\n",
              "        vertical-align: top;\n",
              "    }\n",
              "\n",
              "    .dataframe thead th {\n",
              "        text-align: right;\n",
              "    }\n",
              "</style>\n",
              "<table border=\"1\" class=\"dataframe\">\n",
              "  <thead>\n",
              "    <tr style=\"text-align: right;\">\n",
              "      <th></th>\n",
              "      <th>Scores</th>\n",
              "    </tr>\n",
              "  </thead>\n",
              "  <tbody>\n",
              "    <tr>\n",
              "      <th>Split 1</th>\n",
              "      <td>0.92006</td>\n",
              "    </tr>\n",
              "    <tr>\n",
              "      <th>Split 2</th>\n",
              "      <td>0.93396</td>\n",
              "    </tr>\n",
              "    <tr>\n",
              "      <th>Split 3</th>\n",
              "      <td>0.86432</td>\n",
              "    </tr>\n",
              "    <tr>\n",
              "      <th>Split 4</th>\n",
              "      <td>0.93197</td>\n",
              "    </tr>\n",
              "    <tr>\n",
              "      <th>Split 5</th>\n",
              "      <td>0.86271</td>\n",
              "    </tr>\n",
              "    <tr>\n",
              "      <th>Split 6</th>\n",
              "      <td>0.94622</td>\n",
              "    </tr>\n",
              "    <tr>\n",
              "      <th>Split 7</th>\n",
              "      <td>0.89546</td>\n",
              "    </tr>\n",
              "    <tr>\n",
              "      <th>Split 8</th>\n",
              "      <td>0.93025</td>\n",
              "    </tr>\n",
              "    <tr>\n",
              "      <th>Split 9</th>\n",
              "      <td>0.89680</td>\n",
              "    </tr>\n",
              "    <tr>\n",
              "      <th>Split 10</th>\n",
              "      <td>0.92724</td>\n",
              "    </tr>\n",
              "    <tr>\n",
              "      <th>CV Score</th>\n",
              "      <td>0.91090</td>\n",
              "    </tr>\n",
              "  </tbody>\n",
              "</table>\n",
              "</div>"
            ],
            "text/plain": [
              "           Scores\n",
              "Split 1   0.92006\n",
              "Split 2   0.93396\n",
              "Split 3   0.86432\n",
              "Split 4   0.93197\n",
              "Split 5   0.86271\n",
              "Split 6   0.94622\n",
              "Split 7   0.89546\n",
              "Split 8   0.93025\n",
              "Split 9   0.89680\n",
              "Split 10  0.92724\n",
              "CV Score  0.91090"
            ]
          },
          "metadata": {
            "tags": []
          }
        },
        {
          "output_type": "display_data",
          "data": {
            "image/png": "[encoded data removed]",
            "text/plain": [
              "<Figure size 720x360 with 1 Axes>"
            ]
          },
          "metadata": {
            "tags": [],
            "needs_background": "light"
          }
        }
      ]
    },
    {
      "cell_type": "markdown",
      "metadata": {
        "id": "PnffqrxT5Z11"
      },
      "source": [
        "### Testing data"
      ]
    },
    {
      "cell_type": "code",
      "metadata": {
        "colab": {
          "base_uri": "https://localhost:8080/",
          "height": 555
        },
        "id": "XHK0Oj_j2Asi",
        "outputId": "5524f330-b21c-4bfc-e1c2-1a41b5dc84b1"
      },
      "source": [
        "y_pred = model.predict(X_test_sc)\r\n",
        "\r\n",
        "report(y_test, sc_y.inverse_transform(y_pred))"
      ],
      "execution_count": 7,
      "outputs": [
        {
          "output_type": "display_data",
          "data": {
            "text/html": [
              "<div>\n",
              "<style scoped>\n",
              "    .dataframe tbody tr th:only-of-type {\n",
              "        vertical-align: middle;\n",
              "    }\n",
              "\n",
              "    .dataframe tbody tr th {\n",
              "        vertical-align: top;\n",
              "    }\n",
              "\n",
              "    .dataframe thead th {\n",
              "        text-align: right;\n",
              "    }\n",
              "</style>\n",
              "<table border=\"1\" class=\"dataframe\">\n",
              "  <thead>\n",
              "    <tr style=\"text-align: right;\">\n",
              "      <th></th>\n",
              "      <th>Value</th>\n",
              "    </tr>\n",
              "    <tr>\n",
              "      <th>Metric</th>\n",
              "      <th></th>\n",
              "    </tr>\n",
              "  </thead>\n",
              "  <tbody>\n",
              "    <tr>\n",
              "      <th>R2 Score</th>\n",
              "      <td>0.922150</td>\n",
              "    </tr>\n",
              "    <tr>\n",
              "      <th>MAE</th>\n",
              "      <td>42354.136897</td>\n",
              "    </tr>\n",
              "    <tr>\n",
              "      <th>RMSE</th>\n",
              "      <td>58409.951576</td>\n",
              "    </tr>\n",
              "  </tbody>\n",
              "</table>\n",
              "</div>"
            ],
            "text/plain": [
              "                 Value\n",
              "Metric                \n",
              "R2 Score      0.922150\n",
              "MAE       42354.136897\n",
              "RMSE      58409.951576"
            ]
          },
          "metadata": {
            "tags": []
          }
        },
        {
          "output_type": "display_data",
          "data": {
            "image/png": "[encoded data removed]",
            "text/plain": [
              "<Figure size 720x432 with 1 Axes>"
            ]
          },
          "metadata": {
            "tags": [],
            "needs_background": "light"
          }
        }
      ]
    }
  ]
}