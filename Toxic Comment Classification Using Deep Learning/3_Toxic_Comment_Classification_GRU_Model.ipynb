{
  "nbformat": 4,
  "nbformat_minor": 0,
  "metadata": {
    "colab": {
      "name": "3 Toxic Comment Classification - GRU Model.ipynb",
      "provenance": [],
      "collapsed_sections": []
    },
    "kernelspec": {
      "name": "python3",
      "display_name": "Python 3"
    },
    "accelerator": "GPU"
  },
  "cells": [
    {
      "cell_type": "markdown",
      "metadata": {
        "id": "_hu_hwCbY_pU"
      },
      "source": [
        "# **Toxic Comment Classification**"
      ]
    },
    {
      "cell_type": "markdown",
      "metadata": {
        "id": "rukW9fhaZPLB"
      },
      "source": [
        "## Importing the libraries"
      ]
    },
    {
      "cell_type": "code",
      "metadata": {
        "id": "OXsXXMKqWgBL"
      },
      "source": [
        "import numpy as np\n",
        "import pandas as pd\n",
        "import matplotlib.pyplot as plt\n",
        "import seaborn as sns\n",
        "from sklearn.metrics import confusion_matrix, accuracy_score, recall_score, precision_score\n",
        "\n",
        "from keras.preprocessing.text import Tokenizer\n",
        "from keras.preprocessing import sequence\n",
        "\n",
        "from keras.models import Sequential\n",
        "from keras.layers import Dense, Input, GlobalMaxPooling1D, Dropout\n",
        "from keras.layers import Conv1D, MaxPooling1D, Embedding\n",
        "from keras.layers import LSTM, GRU, Bidirectional"
      ],
      "execution_count": 1,
      "outputs": []
    },
    {
      "cell_type": "markdown",
      "metadata": {
        "id": "ghrPayDaZTVI"
      },
      "source": [
        "## Importing the dataset"
      ]
    },
    {
      "cell_type": "markdown",
      "metadata": {
        "id": "NxI44QbSZ6dL"
      },
      "source": [
        "https://www.kaggle.com/c/jigsaw-toxic-comment-classification-challenge/data"
      ]
    },
    {
      "cell_type": "code",
      "metadata": {
        "colab": {
          "base_uri": "https://localhost:8080/",
          "height": 35
        },
        "id": "B1XcVDnfxWq7",
        "outputId": "8edb9ea7-105b-4a14-f4b8-404454d918af"
      },
      "source": [
        "'''\r\n",
        "import shutil\r\n",
        "import os\r\n",
        "shutil.copy('/content/drive/MyDrive/data.csv', os.getcwd())\r\n",
        "'''"
      ],
      "execution_count": 2,
      "outputs": [
        {
          "output_type": "execute_result",
          "data": {
            "application/vnd.google.colaboratory.intrinsic+json": {
              "type": "string"
            },
            "text/plain": [
              "\"\\nimport shutil\\nimport os\\nshutil.copy('/content/drive/MyDrive/data.csv', os.getcwd())\\n\""
            ]
          },
          "metadata": {
            "tags": []
          },
          "execution_count": 2
        }
      ]
    },
    {
      "cell_type": "code",
      "metadata": {
        "id": "3GG8QFIZWgNI"
      },
      "source": [
        "dataSet = pd.read_csv('data.csv')"
      ],
      "execution_count": 3,
      "outputs": []
    },
    {
      "cell_type": "code",
      "metadata": {
        "id": "l0s8jlXGFBZ9"
      },
      "source": [
        "X = dataSet['X'].values"
      ],
      "execution_count": 4,
      "outputs": []
    },
    {
      "cell_type": "code",
      "metadata": {
        "id": "z9N9JGKIFtLB"
      },
      "source": [
        "y = dataSet['y'].values"
      ],
      "execution_count": 5,
      "outputs": []
    },
    {
      "cell_type": "markdown",
      "metadata": {
        "id": "E4qAau1KZc6U"
      },
      "source": [
        "## Splitting the dataset into the Training set and Test set"
      ]
    },
    {
      "cell_type": "code",
      "metadata": {
        "id": "qmtRdvNleIvi"
      },
      "source": [
        "from sklearn.model_selection import train_test_split\n",
        "\n",
        "X_train, X_test, y_train, y_test = train_test_split(X, y, test_size = 0.3, random_state = 0)"
      ],
      "execution_count": 6,
      "outputs": []
    },
    {
      "cell_type": "markdown",
      "metadata": {
        "id": "BUVYtx8CHanL"
      },
      "source": [
        "## Tokenization"
      ]
    },
    {
      "cell_type": "code",
      "metadata": {
        "id": "Ckmld_p0AmtV"
      },
      "source": [
        "num_words = 20000\r\n",
        "\r\n",
        "tokenizer = Tokenizer(num_words = num_words)\r\n",
        "tokenizer.fit_on_texts(X_train)\r\n",
        "\r\n",
        "X_train = tokenizer.texts_to_sequences(X_train)\r\n",
        "X_test = tokenizer.texts_to_sequences(X_test)"
      ],
      "execution_count": 7,
      "outputs": []
    },
    {
      "cell_type": "code",
      "metadata": {
        "colab": {
          "base_uri": "https://localhost:8080/"
        },
        "id": "fdHRbb-sEmd6",
        "outputId": "ca81d360-1867-445b-d533-6ba1d271fa86"
      },
      "source": [
        "vocab_size = len(tokenizer.word_index) + 1\r\n",
        "\r\n",
        "vocab_size"
      ],
      "execution_count": 8,
      "outputs": [
        {
          "output_type": "execute_result",
          "data": {
            "text/plain": [
              "107152"
            ]
          },
          "metadata": {
            "tags": []
          },
          "execution_count": 8
        }
      ]
    },
    {
      "cell_type": "markdown",
      "metadata": {
        "id": "9VqhBCAuHv5R"
      },
      "source": [
        "## Embedding"
      ]
    },
    {
      "cell_type": "code",
      "metadata": {
        "id": "C9GjioV86Ap3"
      },
      "source": [
        "from keras.models import Sequential\r\n",
        "from keras.layers import Dense\r\n",
        "from keras.layers import LSTM, GRU, Bidirectional\r\n",
        "from keras.layers.embeddings import Embedding\r\n",
        "from keras.preprocessing import sequence\r\n",
        "\r\n",
        "maxlen = 200\r\n",
        "\r\n",
        "X_train = sequence.pad_sequences(X_train, maxlen=maxlen)\r\n",
        "X_test = sequence.pad_sequences(X_test, maxlen=maxlen)"
      ],
      "execution_count": 9,
      "outputs": []
    },
    {
      "cell_type": "code",
      "metadata": {
        "colab": {
          "base_uri": "https://localhost:8080/"
        },
        "id": "iwU5OcJeGXrH",
        "outputId": "f9e1dad3-e661-41fd-ea57-3bacd1e6217a"
      },
      "source": [
        "X_train.shape"
      ],
      "execution_count": 10,
      "outputs": [
        {
          "output_type": "execute_result",
          "data": {
            "text/plain": [
              "(111659, 200)"
            ]
          },
          "metadata": {
            "tags": []
          },
          "execution_count": 10
        }
      ]
    },
    {
      "cell_type": "markdown",
      "metadata": {
        "id": "wJBgw252Hx-P"
      },
      "source": [
        "## GRU"
      ]
    },
    {
      "cell_type": "markdown",
      "metadata": {
        "id": "2XJFepniWNS7"
      },
      "source": [
        "### Setting the seed"
      ]
    },
    {
      "cell_type": "code",
      "metadata": {
        "id": "n1qXoMAXciKD"
      },
      "source": [
        "seed_value = 187372311\r\n",
        "\r\n",
        "import random\r\n",
        "random.seed(seed_value)\r\n",
        "\r\n",
        "import tensorflow as tf\r\n",
        "tf.random.set_seed(seed_value)\r\n",
        "\r\n",
        "np.random.seed(seed_value)\r\n",
        "\r\n",
        "import os\r\n",
        "os.environ['PYTHONHASHSEED']=str(seed_value)"
      ],
      "execution_count": 11,
      "outputs": []
    },
    {
      "cell_type": "markdown",
      "metadata": {
        "id": "SV1YEnoHWRaj"
      },
      "source": [
        "### Building the model"
      ]
    },
    {
      "cell_type": "code",
      "metadata": {
        "id": "u0hDvKuL_Hpp"
      },
      "source": [
        "embedding_dim = 100\r\n",
        "\r\n",
        "# Initialising the model\r\n",
        "model = Sequential()\r\n",
        "\r\n",
        "# Adding Embedding layer\r\n",
        "model.add(Embedding(input_dim = vocab_size, \r\n",
        "                    output_dim = embedding_dim, \r\n",
        "                    input_length = maxlen))\r\n",
        "\r\n",
        "# Adding GRU layers\r\n",
        "model.add(GRU(50, return_sequences=True))\r\n",
        "model.add(Dropout(0.2))\r\n",
        "\r\n",
        "model.add(GRU(50, return_sequences=True))\r\n",
        "model.add(Dropout(0.2))\r\n",
        "\r\n",
        "model.add(GRU(50))\r\n",
        "model.add(Dropout(0.2))\r\n",
        "\r\n",
        "# Adding the output layer\r\n",
        "model.add(Dense(1, activation='sigmoid'))\r\n",
        "\r\n",
        "# Compiling the model\r\n",
        "model.compile(loss='binary_crossentropy', optimizer='adam', metrics=['accuracy'])"
      ],
      "execution_count": 12,
      "outputs": []
    },
    {
      "cell_type": "code",
      "metadata": {
        "colab": {
          "base_uri": "https://localhost:8080/"
        },
        "id": "A4WLtVkVVtyP",
        "outputId": "70c89218-48ee-4db6-c72e-24a97874e6f5"
      },
      "source": [
        "model.summary()"
      ],
      "execution_count": 13,
      "outputs": [
        {
          "output_type": "stream",
          "text": [
            "Model: \"sequential\"\n",
            "_________________________________________________________________\n",
            "Layer (type)                 Output Shape              Param #   \n",
            "=================================================================\n",
            "embedding (Embedding)        (None, 200, 100)          10715200  \n",
            "_________________________________________________________________\n",
            "gru (GRU)                    (None, 200, 50)           22800     \n",
            "_________________________________________________________________\n",
            "dropout (Dropout)            (None, 200, 50)           0         \n",
            "_________________________________________________________________\n",
            "gru_1 (GRU)                  (None, 200, 50)           15300     \n",
            "_________________________________________________________________\n",
            "dropout_1 (Dropout)          (None, 200, 50)           0         \n",
            "_________________________________________________________________\n",
            "gru_2 (GRU)                  (None, 50)                15300     \n",
            "_________________________________________________________________\n",
            "dropout_2 (Dropout)          (None, 50)                0         \n",
            "_________________________________________________________________\n",
            "dense (Dense)                (None, 1)                 51        \n",
            "=================================================================\n",
            "Total params: 10,768,651\n",
            "Trainable params: 10,768,651\n",
            "Non-trainable params: 0\n",
            "_________________________________________________________________\n"
          ],
          "name": "stdout"
        }
      ]
    },
    {
      "cell_type": "code",
      "metadata": {
        "colab": {
          "base_uri": "https://localhost:8080/",
          "height": 976
        },
        "id": "bR3cEVNkWlSW",
        "outputId": "45225a7a-b4ce-49a3-aeff-189255d2b09f"
      },
      "source": [
        "from keras.utils.vis_utils import plot_model\r\n",
        "\r\n",
        "plot_model(model, to_file='GRU.png', show_shapes=True, show_layer_names=True)"
      ],
      "execution_count": 14,
      "outputs": [
        {
          "output_type": "execute_result",
          "data": {
            "image/png": "[encoded data removed]",
            "text/plain": [
              "<IPython.core.display.Image object>"
            ]
          },
          "metadata": {
            "tags": []
          },
          "execution_count": 14
        }
      ]
    },
    {
      "cell_type": "code",
      "metadata": {
        "colab": {
          "base_uri": "https://localhost:8080/"
        },
        "id": "xEJIEgPZVu4T",
        "outputId": "2c54ae1e-4550-48de-d372-7b675e3df174"
      },
      "source": [
        "# Fitting the model to the Training set\r\n",
        "model.fit(X_train, y_train, validation_data=(X_test, y_test), epochs=2, batch_size=128)"
      ],
      "execution_count": 15,
      "outputs": [
        {
          "output_type": "stream",
          "text": [
            "Epoch 1/2\n",
            "873/873 [==============================] - 136s 150ms/step - loss: 0.2076 - accuracy: 0.9338 - val_loss: 0.1062 - val_accuracy: 0.9601\n",
            "Epoch 2/2\n",
            "873/873 [==============================] - 130s 148ms/step - loss: 0.0885 - accuracy: 0.9681 - val_loss: 0.1071 - val_accuracy: 0.9625\n"
          ],
          "name": "stdout"
        },
        {
          "output_type": "execute_result",
          "data": {
            "text/plain": [
              "<tensorflow.python.keras.callbacks.History at 0x7f9238808588>"
            ]
          },
          "metadata": {
            "tags": []
          },
          "execution_count": 15
        }
      ]
    },
    {
      "cell_type": "markdown",
      "metadata": {
        "id": "XWBMxjiSWXVu"
      },
      "source": [
        "### Making the predictions and visualising the results"
      ]
    },
    {
      "cell_type": "code",
      "metadata": {
        "id": "aJD4Ga4umJFF"
      },
      "source": [
        "from sklearn.metrics import confusion_matrix, accuracy_score, recall_score, precision_score, f1_score\n",
        "\n",
        "def report(y_test, y_pred):\n",
        "\n",
        "  cm = confusion_matrix(y_test, y_pred)\n",
        "\n",
        "  acc = np.round(accuracy_score(y_test, y_pred)*100, 2)\n",
        "  p = np.round(precision_score(y_test, y_pred)*100, 2)\n",
        "  r = np.round(recall_score(y_test, y_pred)*100, 2)\n",
        "  f1 = np.round(f1_score(y_test, y_pred)*100, 2)\n",
        "\n",
        "  data = [acc, p, r, f1]\n",
        "\n",
        "  idx = ['Accuracy', 'Precision', 'Recall', 'F1']\n",
        "  results = pd.DataFrame(index=idx, data = data, columns=['Value'])\n",
        "  results.index.name = 'Metric'\n",
        "  display(results)\n",
        "\n",
        "  plt.figure(figsize=(7, 5))\n",
        "  sns.heatmap(cm, annot=True, cmap=plt.cm.Blues, fmt = 'd', annot_kws={\"size\": 30}).set_title('Confusion Matrix')\n",
        "  plt.show()"
      ],
      "execution_count": 16,
      "outputs": []
    },
    {
      "cell_type": "code",
      "metadata": {
        "id": "M1PuTagGMmze",
        "colab": {
          "base_uri": "https://localhost:8080/",
          "height": 523
        },
        "outputId": "219517c7-3745-4c13-fb12-00308be00bc0"
      },
      "source": [
        "y_pred = model.predict(X_test) > 0.5\r\n",
        "\r\n",
        "report(y_test, y_pred)"
      ],
      "execution_count": 17,
      "outputs": [
        {
          "output_type": "display_data",
          "data": {
            "text/html": [
              "<div>\n",
              "<style scoped>\n",
              "    .dataframe tbody tr th:only-of-type {\n",
              "        vertical-align: middle;\n",
              "    }\n",
              "\n",
              "    .dataframe tbody tr th {\n",
              "        vertical-align: top;\n",
              "    }\n",
              "\n",
              "    .dataframe thead th {\n",
              "        text-align: right;\n",
              "    }\n",
              "</style>\n",
              "<table border=\"1\" class=\"dataframe\">\n",
              "  <thead>\n",
              "    <tr style=\"text-align: right;\">\n",
              "      <th></th>\n",
              "      <th>Value</th>\n",
              "    </tr>\n",
              "    <tr>\n",
              "      <th>Metric</th>\n",
              "      <th></th>\n",
              "    </tr>\n",
              "  </thead>\n",
              "  <tbody>\n",
              "    <tr>\n",
              "      <th>Accuracy</th>\n",
              "      <td>96.25</td>\n",
              "    </tr>\n",
              "    <tr>\n",
              "      <th>Precision</th>\n",
              "      <td>86.82</td>\n",
              "    </tr>\n",
              "    <tr>\n",
              "      <th>Recall</th>\n",
              "      <td>74.28</td>\n",
              "    </tr>\n",
              "    <tr>\n",
              "      <th>F1</th>\n",
              "      <td>80.06</td>\n",
              "    </tr>\n",
              "  </tbody>\n",
              "</table>\n",
              "</div>"
            ],
            "text/plain": [
              "           Value\n",
              "Metric          \n",
              "Accuracy   96.25\n",
              "Precision  86.82\n",
              "Recall     74.28\n",
              "F1         80.06"
            ]
          },
          "metadata": {
            "tags": []
          }
        },
        {
          "output_type": "display_data",
          "data": {
            "image/png": "[encoded data removed]",
            "text/plain": [
              "<Figure size 504x360 with 2 Axes>"
            ]
          },
          "metadata": {
            "tags": [],
            "needs_background": "light"
          }
        }
      ]
    },
    {
      "cell_type": "markdown",
      "metadata": {
        "id": "zcxk_HrpWwpu"
      },
      "source": [
        "### Saving the model"
      ]
    },
    {
      "cell_type": "code",
      "metadata": {
        "id": "DOdFYqj2Wyin"
      },
      "source": [
        "model.save('GRU.h5')"
      ],
      "execution_count": 18,
      "outputs": []
    }
  ]
}