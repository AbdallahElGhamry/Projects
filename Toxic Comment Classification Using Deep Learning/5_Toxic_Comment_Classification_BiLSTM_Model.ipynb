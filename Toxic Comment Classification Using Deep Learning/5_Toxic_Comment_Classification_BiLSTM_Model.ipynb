{
  "nbformat": 4,
  "nbformat_minor": 0,
  "metadata": {
    "colab": {
      "name": "5 Toxic Comment Classification - BiLSTM Model.ipynb",
      "provenance": [],
      "collapsed_sections": []
    },
    "kernelspec": {
      "name": "python3",
      "display_name": "Python 3"
    },
    "accelerator": "GPU"
  },
  "cells": [
    {
      "cell_type": "markdown",
      "metadata": {
        "id": "_hu_hwCbY_pU"
      },
      "source": [
        "# **Toxic Comment Classification**"
      ]
    },
    {
      "cell_type": "markdown",
      "metadata": {
        "id": "rukW9fhaZPLB"
      },
      "source": [
        "## Importing the libraries"
      ]
    },
    {
      "cell_type": "code",
      "metadata": {
        "id": "OXsXXMKqWgBL"
      },
      "source": [
        "import numpy as np\n",
        "import pandas as pd\n",
        "import matplotlib.pyplot as plt\n",
        "import seaborn as sns\n",
        "from sklearn.metrics import confusion_matrix, accuracy_score, recall_score, precision_score\n",
        "\n",
        "from keras.preprocessing.text import Tokenizer\n",
        "from keras.preprocessing import sequence\n",
        "\n",
        "from keras.models import Sequential\n",
        "from keras.layers import Dense, Input, GlobalMaxPooling1D, Dropout\n",
        "from keras.layers import Conv1D, MaxPooling1D, Embedding\n",
        "from keras.layers import LSTM, GRU, Bidirectional"
      ],
      "execution_count": 1,
      "outputs": []
    },
    {
      "cell_type": "markdown",
      "metadata": {
        "id": "ghrPayDaZTVI"
      },
      "source": [
        "## Importing the dataset"
      ]
    },
    {
      "cell_type": "markdown",
      "metadata": {
        "id": "NxI44QbSZ6dL"
      },
      "source": [
        "https://www.kaggle.com/c/jigsaw-toxic-comment-classification-challenge/data"
      ]
    },
    {
      "cell_type": "code",
      "metadata": {
        "colab": {
          "base_uri": "https://localhost:8080/",
          "height": 35
        },
        "id": "B1XcVDnfxWq7",
        "outputId": "f19438f0-80f9-4ef3-8089-48279f170925"
      },
      "source": [
        "import shutil\r\n",
        "import os\r\n",
        "shutil.copy('/content/drive/MyDrive/data.csv', os.getcwd())"
      ],
      "execution_count": 2,
      "outputs": [
        {
          "output_type": "execute_result",
          "data": {
            "application/vnd.google.colaboratory.intrinsic+json": {
              "type": "string"
            },
            "text/plain": [
              "'/content/data.csv'"
            ]
          },
          "metadata": {
            "tags": []
          },
          "execution_count": 2
        }
      ]
    },
    {
      "cell_type": "code",
      "metadata": {
        "id": "3GG8QFIZWgNI"
      },
      "source": [
        "dataSet = pd.read_csv('data.csv')"
      ],
      "execution_count": 3,
      "outputs": []
    },
    {
      "cell_type": "code",
      "metadata": {
        "id": "l0s8jlXGFBZ9"
      },
      "source": [
        "X = dataSet['X'].values"
      ],
      "execution_count": 4,
      "outputs": []
    },
    {
      "cell_type": "code",
      "metadata": {
        "id": "z9N9JGKIFtLB"
      },
      "source": [
        "y = dataSet['y'].values"
      ],
      "execution_count": 5,
      "outputs": []
    },
    {
      "cell_type": "markdown",
      "metadata": {
        "id": "E4qAau1KZc6U"
      },
      "source": [
        "## Splitting the dataset into the Training set and Test set"
      ]
    },
    {
      "cell_type": "code",
      "metadata": {
        "id": "qmtRdvNleIvi"
      },
      "source": [
        "from sklearn.model_selection import train_test_split\n",
        "\n",
        "X_train, X_test, y_train, y_test = train_test_split(X, y, test_size = 0.3, random_state = 0)"
      ],
      "execution_count": 6,
      "outputs": []
    },
    {
      "cell_type": "markdown",
      "metadata": {
        "id": "BUVYtx8CHanL"
      },
      "source": [
        "## Tokenization"
      ]
    },
    {
      "cell_type": "code",
      "metadata": {
        "id": "Ckmld_p0AmtV"
      },
      "source": [
        "num_words = 20000\r\n",
        "\r\n",
        "tokenizer = Tokenizer(num_words = num_words)\r\n",
        "tokenizer.fit_on_texts(X_train)\r\n",
        "\r\n",
        "X_train = tokenizer.texts_to_sequences(X_train)\r\n",
        "X_test = tokenizer.texts_to_sequences(X_test)"
      ],
      "execution_count": 7,
      "outputs": []
    },
    {
      "cell_type": "code",
      "metadata": {
        "colab": {
          "base_uri": "https://localhost:8080/"
        },
        "id": "fdHRbb-sEmd6",
        "outputId": "c1ed3abc-8042-4586-eec3-309539af809d"
      },
      "source": [
        "vocab_size = len(tokenizer.word_index) + 1\r\n",
        "\r\n",
        "vocab_size"
      ],
      "execution_count": 8,
      "outputs": [
        {
          "output_type": "execute_result",
          "data": {
            "text/plain": [
              "107152"
            ]
          },
          "metadata": {
            "tags": []
          },
          "execution_count": 8
        }
      ]
    },
    {
      "cell_type": "markdown",
      "metadata": {
        "id": "9VqhBCAuHv5R"
      },
      "source": [
        "## Embedding"
      ]
    },
    {
      "cell_type": "code",
      "metadata": {
        "id": "C9GjioV86Ap3"
      },
      "source": [
        "from keras.models import Sequential\r\n",
        "from keras.layers import Dense\r\n",
        "from keras.layers import LSTM, GRU, Bidirectional\r\n",
        "from keras.layers.embeddings import Embedding\r\n",
        "from keras.preprocessing import sequence\r\n",
        "\r\n",
        "maxlen = 200\r\n",
        "\r\n",
        "X_train = sequence.pad_sequences(X_train, maxlen=maxlen)\r\n",
        "X_test = sequence.pad_sequences(X_test, maxlen=maxlen)"
      ],
      "execution_count": 9,
      "outputs": []
    },
    {
      "cell_type": "code",
      "metadata": {
        "colab": {
          "base_uri": "https://localhost:8080/"
        },
        "id": "iwU5OcJeGXrH",
        "outputId": "37a7668c-492d-4056-9b7b-531b40d089e7"
      },
      "source": [
        "X_train.shape"
      ],
      "execution_count": 10,
      "outputs": [
        {
          "output_type": "execute_result",
          "data": {
            "text/plain": [
              "(111659, 200)"
            ]
          },
          "metadata": {
            "tags": []
          },
          "execution_count": 10
        }
      ]
    },
    {
      "cell_type": "markdown",
      "metadata": {
        "id": "wJBgw252Hx-P"
      },
      "source": [
        "## BiLSTM"
      ]
    },
    {
      "cell_type": "markdown",
      "metadata": {
        "id": "2XJFepniWNS7"
      },
      "source": [
        "### Setting the seed"
      ]
    },
    {
      "cell_type": "code",
      "metadata": {
        "id": "n1qXoMAXciKD",
        "colab": {
          "base_uri": "https://localhost:8080/",
          "height": 52
        },
        "outputId": "1fa0477c-77c4-4063-bd8e-22a619cbdc73"
      },
      "source": [
        "'''\r\n",
        "seed_value = 8149339\r\n",
        "\r\n",
        "import random\r\n",
        "random.seed(seed_value)\r\n",
        "\r\n",
        "import tensorflow as tf\r\n",
        "tf.random.set_seed(seed_value)\r\n",
        "\r\n",
        "np.random.seed(seed_value)\r\n",
        "\r\n",
        "import os\r\n",
        "os.environ['PYTHONHASHSEED']=str(seed_value)\r\n",
        "'''"
      ],
      "execution_count": 11,
      "outputs": [
        {
          "output_type": "execute_result",
          "data": {
            "application/vnd.google.colaboratory.intrinsic+json": {
              "type": "string"
            },
            "text/plain": [
              "\"\\nseed_value = 8149339\\n\\nimport random\\nrandom.seed(seed_value)\\n\\nimport tensorflow as tf\\ntf.random.set_seed(seed_value)\\n\\nnp.random.seed(seed_value)\\n\\nimport os\\nos.environ['PYTHONHASHSEED']=str(seed_value)\\n\""
            ]
          },
          "metadata": {
            "tags": []
          },
          "execution_count": 11
        }
      ]
    },
    {
      "cell_type": "markdown",
      "metadata": {
        "id": "SV1YEnoHWRaj"
      },
      "source": [
        "### Building the model"
      ]
    },
    {
      "cell_type": "code",
      "metadata": {
        "id": "u0hDvKuL_Hpp"
      },
      "source": [
        "embedding_dim = 100\r\n",
        "\r\n",
        "# Initialising the model\r\n",
        "model = Sequential()\r\n",
        "\r\n",
        "# Adding Embedding layer\r\n",
        "model.add(Embedding(input_dim = vocab_size, \r\n",
        "                    output_dim = embedding_dim, \r\n",
        "                    input_length = maxlen))\r\n",
        "\r\n",
        "# Adding BiLSTM layers\r\n",
        "model.add(Bidirectional(LSTM(64, return_sequences=True)))\r\n",
        "model.add(Bidirectional(LSTM(64, return_sequences=True)))\r\n",
        "model.add(GlobalMaxPooling1D())\r\n",
        "\r\n",
        "# Adding full connection layer\r\n",
        "model.add(Dense(64, activation=\"relu\"))\r\n",
        "\r\n",
        "# Adding the output layer\r\n",
        "model.add(Dense(1, activation='sigmoid'))\r\n",
        "\r\n",
        "# Compiling the model\r\n",
        "model.compile(loss='binary_crossentropy', optimizer='adam', metrics=['accuracy'])"
      ],
      "execution_count": 12,
      "outputs": []
    },
    {
      "cell_type": "code",
      "metadata": {
        "colab": {
          "base_uri": "https://localhost:8080/"
        },
        "id": "A4WLtVkVVtyP",
        "outputId": "b5a9fa2c-a632-42aa-b8d2-4035bf0612bd"
      },
      "source": [
        "model.summary()"
      ],
      "execution_count": 13,
      "outputs": [
        {
          "output_type": "stream",
          "text": [
            "Model: \"sequential\"\n",
            "_________________________________________________________________\n",
            "Layer (type)                 Output Shape              Param #   \n",
            "=================================================================\n",
            "embedding (Embedding)        (None, 200, 100)          10715200  \n",
            "_________________________________________________________________\n",
            "bidirectional (Bidirectional (None, 200, 128)          84480     \n",
            "_________________________________________________________________\n",
            "bidirectional_1 (Bidirection (None, 200, 128)          98816     \n",
            "_________________________________________________________________\n",
            "global_max_pooling1d (Global (None, 128)               0         \n",
            "_________________________________________________________________\n",
            "dense (Dense)                (None, 64)                8256      \n",
            "_________________________________________________________________\n",
            "dense_1 (Dense)              (None, 1)                 65        \n",
            "=================================================================\n",
            "Total params: 10,906,817\n",
            "Trainable params: 10,906,817\n",
            "Non-trainable params: 0\n",
            "_________________________________________________________________\n"
          ],
          "name": "stdout"
        }
      ]
    },
    {
      "cell_type": "code",
      "metadata": {
        "colab": {
          "base_uri": "https://localhost:8080/",
          "height": 754
        },
        "id": "bR3cEVNkWlSW",
        "outputId": "f4ea49f9-21ba-4513-b6bc-152921524d85"
      },
      "source": [
        "from keras.utils.vis_utils import plot_model\r\n",
        "\r\n",
        "plot_model(model, to_file='BiLSTM.png', show_shapes=True)"
      ],
      "execution_count": 20,
      "outputs": [
        {
          "output_type": "execute_result",
          "data": {
            "image/png": "[encoded data removed]",
            "text/plain": [
              "<IPython.core.display.Image object>"
            ]
          },
          "metadata": {
            "tags": []
          },
          "execution_count": 20
        }
      ]
    },
    {
      "cell_type": "code",
      "metadata": {
        "colab": {
          "base_uri": "https://localhost:8080/"
        },
        "id": "xEJIEgPZVu4T",
        "outputId": "87b27b42-de41-4bf1-82b6-df2849c4ceee"
      },
      "source": [
        "# Fitting the model to the Training set\r\n",
        "model.fit(X_train, y_train, validation_data=(X_test, y_test), epochs=2, batch_size=128)"
      ],
      "execution_count": 15,
      "outputs": [
        {
          "output_type": "stream",
          "text": [
            "Epoch 1/2\n",
            "873/873 [==============================] - 143s 157ms/step - loss: 0.2195 - accuracy: 0.9312 - val_loss: 0.1029 - val_accuracy: 0.9625\n",
            "Epoch 2/2\n",
            "873/873 [==============================] - 135s 154ms/step - loss: 0.0838 - accuracy: 0.9691 - val_loss: 0.1041 - val_accuracy: 0.9627\n"
          ],
          "name": "stdout"
        },
        {
          "output_type": "execute_result",
          "data": {
            "text/plain": [
              "<tensorflow.python.keras.callbacks.History at 0x7fee329410f0>"
            ]
          },
          "metadata": {
            "tags": []
          },
          "execution_count": 15
        }
      ]
    },
    {
      "cell_type": "markdown",
      "metadata": {
        "id": "XWBMxjiSWXVu"
      },
      "source": [
        "### Making the predictions and visualising the results"
      ]
    },
    {
      "cell_type": "code",
      "metadata": {
        "id": "aJD4Ga4umJFF"
      },
      "source": [
        "from sklearn.metrics import confusion_matrix, accuracy_score, recall_score, precision_score, f1_score\n",
        "\n",
        "def report(y_test, y_pred):\n",
        "\n",
        "  cm = confusion_matrix(y_test, y_pred)\n",
        "\n",
        "  acc = np.round(accuracy_score(y_test, y_pred)*100, 2)\n",
        "  p = np.round(precision_score(y_test, y_pred)*100, 2)\n",
        "  r = np.round(recall_score(y_test, y_pred)*100, 2)\n",
        "  f1 = np.round(f1_score(y_test, y_pred)*100, 2)\n",
        "\n",
        "  data = [acc, p, r, f1]\n",
        "\n",
        "  idx = ['Accuracy', 'Precision', 'Recall', 'F1']\n",
        "  results = pd.DataFrame(index=idx, data = data, columns=['Value'])\n",
        "  results.index.name = 'Metric'\n",
        "  display(results)\n",
        "\n",
        "  plt.figure(figsize=(7, 5))\n",
        "  sns.heatmap(cm, annot=True, cmap=plt.cm.Blues, fmt = 'd', annot_kws={\"size\": 30}).set_title('Confusion Matrix')\n",
        "  plt.show()"
      ],
      "execution_count": 16,
      "outputs": []
    },
    {
      "cell_type": "code",
      "metadata": {
        "id": "M1PuTagGMmze",
        "colab": {
          "base_uri": "https://localhost:8080/",
          "height": 523
        },
        "outputId": "c7686569-c6bc-4c41-9e7f-a3c9eb220a1c"
      },
      "source": [
        "y_pred = model.predict(X_test) > 0.5\r\n",
        "\r\n",
        "report(y_test, y_pred)"
      ],
      "execution_count": 19,
      "outputs": [
        {
          "output_type": "display_data",
          "data": {
            "text/html": [
              "<div>\n",
              "<style scoped>\n",
              "    .dataframe tbody tr th:only-of-type {\n",
              "        vertical-align: middle;\n",
              "    }\n",
              "\n",
              "    .dataframe tbody tr th {\n",
              "        vertical-align: top;\n",
              "    }\n",
              "\n",
              "    .dataframe thead th {\n",
              "        text-align: right;\n",
              "    }\n",
              "</style>\n",
              "<table border=\"1\" class=\"dataframe\">\n",
              "  <thead>\n",
              "    <tr style=\"text-align: right;\">\n",
              "      <th></th>\n",
              "      <th>Value</th>\n",
              "    </tr>\n",
              "    <tr>\n",
              "      <th>Metric</th>\n",
              "      <th></th>\n",
              "    </tr>\n",
              "  </thead>\n",
              "  <tbody>\n",
              "    <tr>\n",
              "      <th>Accuracy</th>\n",
              "      <td>96.27</td>\n",
              "    </tr>\n",
              "    <tr>\n",
              "      <th>Precision</th>\n",
              "      <td>85.99</td>\n",
              "    </tr>\n",
              "    <tr>\n",
              "      <th>Recall</th>\n",
              "      <td>75.54</td>\n",
              "    </tr>\n",
              "    <tr>\n",
              "      <th>F1</th>\n",
              "      <td>80.43</td>\n",
              "    </tr>\n",
              "  </tbody>\n",
              "</table>\n",
              "</div>"
            ],
            "text/plain": [
              "           Value\n",
              "Metric          \n",
              "Accuracy   96.27\n",
              "Precision  85.99\n",
              "Recall     75.54\n",
              "F1         80.43"
            ]
          },
          "metadata": {
            "tags": []
          }
        },
        {
          "output_type": "display_data",
          "data": {
            "image/png": "[encoded data removed]",
            "text/plain": [
              "<Figure size 504x360 with 2 Axes>"
            ]
          },
          "metadata": {
            "tags": [],
            "needs_background": "light"
          }
        }
      ]
    },
    {
      "cell_type": "markdown",
      "metadata": {
        "id": "zcxk_HrpWwpu"
      },
      "source": [
        "### Saving the model"
      ]
    },
    {
      "cell_type": "code",
      "metadata": {
        "id": "DOdFYqj2Wyin"
      },
      "source": [
        "model.save('BiLSTM.h5')"
      ],
      "execution_count": 21,
      "outputs": []
    }
  ]
}