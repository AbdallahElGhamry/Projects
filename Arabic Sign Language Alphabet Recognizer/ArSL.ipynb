{
 "cells": [
  {
   "cell_type": "markdown",
   "metadata": {},
   "source": [
    "### Importing the libraries"
   ]
  },
  {
   "cell_type": "code",
   "execution_count": 1,
   "metadata": {},
   "outputs": [],
   "source": [
    "import keras\n",
    "import cv2\n",
    "import mediapipe as mp\n",
    "import numpy as np\n",
    "from keras.preprocessing.image import img_to_array\n",
    "import imutils\n",
    "import os\n",
    "import pickle"
   ]
  },
  {
   "cell_type": "markdown",
   "metadata": {},
   "source": [
    "### Loading the model"
   ]
  },
  {
   "cell_type": "code",
   "execution_count": 2,
   "metadata": {},
   "outputs": [],
   "source": [
    "model = keras.models.load_model(\"ArSLModelv2.h5\")\n",
    "file = open(\"ArSLLabels.pkl\", \"rb\")\n",
    "labels = pickle.load(file)"
   ]
  },
  {
   "cell_type": "code",
   "execution_count": 8,
   "metadata": {},
   "outputs": [
    {
     "data": {
      "text/plain": [
       "{0: 'ain',\n",
       " 1: 'al',\n",
       " 2: 'aleff',\n",
       " 3: 'bb',\n",
       " 4: 'dal',\n",
       " 5: 'dha',\n",
       " 6: 'dhad',\n",
       " 7: 'fa',\n",
       " 8: 'gaaf',\n",
       " 9: 'ghain',\n",
       " 10: 'ha',\n",
       " 11: 'haa',\n",
       " 12: 'jeem',\n",
       " 13: 'kaaf',\n",
       " 14: 'khaa',\n",
       " 15: 'la',\n",
       " 16: 'laam',\n",
       " 17: 'meem',\n",
       " 18: 'nun',\n",
       " 19: 'ra',\n",
       " 20: 'saad',\n",
       " 21: 'seen',\n",
       " 22: 'sheen',\n",
       " 23: 'ta',\n",
       " 24: 'taa',\n",
       " 25: 'thaa',\n",
       " 26: 'thal',\n",
       " 27: 'toot',\n",
       " 28: 'waw',\n",
       " 29: 'ya',\n",
       " 30: 'yaa',\n",
       " 31: 'zay'}"
      ]
     },
     "execution_count": 8,
     "metadata": {},
     "output_type": "execute_result"
    }
   ],
   "source": [
    "labels"
   ]
  },
  {
   "cell_type": "code",
   "execution_count": 9,
   "metadata": {},
   "outputs": [],
   "source": [
    "labels = {\n",
    "    0: 'ع',\n",
    "    1: 'ال',\n",
    "    2: 'أ',\n",
    "    3: 'ب',\n",
    "    4: 'د',\n",
    "    5: 'ذ',\n",
    "    6: 'ض',\n",
    "    7: 'ف',\n",
    "    8: 'ق',\n",
    "    9: 'غ',\n",
    "    10: 'ه',\n",
    "    11: 'ح',\n",
    "    12: 'ج',\n",
    "    13: 'ك',\n",
    "    14: 'خ',\n",
    "    15: 'لا',\n",
    "    16: 'ل',\n",
    "    17: 'م',\n",
    "    18: 'ن',\n",
    "    19: 'ر',\n",
    "    20: 'ص',\n",
    "    21: 'س',\n",
    "    22: 'ش',\n",
    "    23: 'ط',\n",
    "    24: 'ت',\n",
    "    25: 'ث',\n",
    "    26: 'ذ',\n",
    "    27: 'ة',\n",
    "    28: 'و',\n",
    "    29: 'ئ',\n",
    "    30: 'ي',\n",
    "    31: 'ز'\n",
    "}"
   ]
  },
  {
   "cell_type": "code",
   "execution_count": 3,
   "metadata": {},
   "outputs": [],
   "source": [
    "def classify(image):\n",
    "    # Image Preprocessing\n",
    "    image = cv2.resize(image, (64, 64))\n",
    "    image = image.astype(\"float\") / 255.0\n",
    "    image = img_to_array(image)\n",
    "    image = np.expand_dims(image, axis=0)\n",
    "    \n",
    "    # Predicting the class\n",
    "    proba=model.predict(image)\n",
    "    idx = np.argmax(proba)\n",
    "    \n",
    "    return labels[idx]"
   ]
  },
  {
   "cell_type": "markdown",
   "metadata": {},
   "source": [
    "### Live Camera"
   ]
  },
  {
   "cell_type": "code",
   "execution_count": 4,
   "metadata": {
    "scrolled": true
   },
   "outputs": [],
   "source": [
    "cap = cv2.VideoCapture(0)\n",
    "\n",
    "while True:\n",
    "    ret, img = cap.read()\n",
    "    img = cv2.flip(img, 1)\n",
    "    \n",
    "    top, right, bottom, left = 75, 350, 300, 590\n",
    "    \n",
    "    roi = img[top:bottom, right:left]\n",
    "    roi=cv2.flip(roi,1)\n",
    "    \n",
    "    gray = cv2.cvtColor(roi, cv2.COLOR_BGR2GRAY)\n",
    "    gray = cv2.GaussianBlur(gray, (7, 7), 0)\n",
    "    \n",
    "    kernel = np.array([[-1,-1,-1], [-1,9,-1], [-1,-1,-1]])\n",
    "    gray = cv2.filter2D(gray, -1, kernel)\n",
    "    \n",
    "    cv2.imshow('roi', gray)\n",
    "    \n",
    "    pred = classify(gray)\n",
    "    cv2.rectangle(img, (left, top), (right, bottom), (0,255,0), 2)\n",
    "    font=cv2.FONT_HERSHEY_SIMPLEX\n",
    "    cv2.putText(img, pred, (0,130), font, 5, (0,0,255), 2)\n",
    "    \n",
    "    cv2.imshow('img',img)\n",
    "    \n",
    "    key = cv2.waitKey(1) & 0xFF\n",
    "    if key==ord('q'):\n",
    "        break\n",
    "        \n",
    "cap.release()\n",
    "cv2.destroyAllWindows()"
   ]
  },
  {
   "cell_type": "code",
   "execution_count": null,
   "metadata": {},
   "outputs": [],
   "source": []
  },
  {
   "cell_type": "markdown",
   "metadata": {},
   "source": [
    "### Live V3"
   ]
  },
  {
   "cell_type": "code",
   "execution_count": 5,
   "metadata": {},
   "outputs": [],
   "source": [
    "import arabic_reshaper\n",
    "from bidi.algorithm import get_display\n",
    "from PIL import ImageFont, ImageDraw, Image\n",
    "\n",
    "\n",
    "def putArabicText(frame, text, p):\n",
    "    reshaped_text = arabic_reshaper.reshape(text)\n",
    "    bidi_text = get_display(reshaped_text) \n",
    "    fontpath = \"arial.ttf\" \n",
    "    font = ImageFont.truetype(fontpath, 60)\n",
    "    img_pil = Image.fromarray(frame)\n",
    "    draw = ImageDraw.Draw(img_pil)\n",
    "    draw.text(p, bidi_text, font = font, fill=(0, 0, 0))\n",
    "    img = np.array(img_pil)\n",
    "    \n",
    "    return img"
   ]
  },
  {
   "cell_type": "code",
   "execution_count": null,
   "metadata": {},
   "outputs": [],
   "source": [
    "import mediapipe as mp\n",
    "\n",
    "mpHands = mp.solutions.hands\n",
    "hands = mpHands.Hands(max_num_hands=1)\n",
    "mpDraw = mp.solutions.drawing_utils\n",
    "\n",
    "cap = cv2.VideoCapture(0)\n",
    "\n",
    "while True:\n",
    "    ret, img = cap.read()\n",
    "    img = cv2.flip(img, 1)\n",
    "    h, w, c = img.shape\n",
    "    \n",
    "    imgRGB = cv2.cvtColor(img, cv2.COLOR_BGR2RGB)\n",
    "    result = hands.process(imgRGB)\n",
    "    hand_landmarks = result.multi_hand_landmarks\n",
    "    \n",
    "    frame = img.copy()\n",
    "    if hand_landmarks:\n",
    "        for handLMs in hand_landmarks:\n",
    "            x_max = 0\n",
    "            y_max = 0\n",
    "            x_min = w\n",
    "            y_min = h\n",
    "            \n",
    "            for lm in handLMs.landmark:\n",
    "                x, y = int(lm.x * w), int(lm.y * h)\n",
    "                if x > x_max:\n",
    "                    x_max = x\n",
    "                if x < x_min:\n",
    "                    x_min = x\n",
    "                if y > y_max:\n",
    "                    y_max = y\n",
    "                if y < y_min:\n",
    "                    y_min = y\n",
    "            \n",
    "            x_min = int(x_min*0.9)\n",
    "            y_min = int(y_min*0.6)\n",
    "            x_max = int(x_max*1.1)\n",
    "            y_max = int(y_max*1.1)\n",
    "            \n",
    "            cv2.rectangle(frame, (x_min, y_min), (x_max, y_max), (0, 255, 255), 2)\n",
    "            mpDraw.draw_landmarks(frame, handLMs, mpHands.HAND_CONNECTIONS)\n",
    "            top, right, bottom, left = y_min, x_min, y_max, x_max\n",
    "    \n",
    "    \n",
    "    roi = img[top:bottom, right:left]\n",
    "    roi=cv2.flip(roi,1)\n",
    "    \n",
    "    if not hand_landmarks:\n",
    "        roi = np.array([])\n",
    "        cv2.imshow('img', frame)\n",
    "    \n",
    "    if roi.size > 0:\n",
    "        gray = cv2.cvtColor(roi, cv2.COLOR_BGR2GRAY)\n",
    "        gray = cv2.GaussianBlur(gray, (7, 7), 0)\n",
    "\n",
    "        kernel = np.array([[-1,-1,-1], [-1,9,-1], [-1,-1,-1]])\n",
    "        gray = cv2.filter2D(gray, -1, kernel)\n",
    "\n",
    "        cv2.imshow('roi', gray)\n",
    "\n",
    "        pred = classify(gray)\n",
    "        #cv2.rectangle(frame, (left, top), (right, bottom), (0,255,0), 2)\n",
    "        font=cv2.FONT_HERSHEY_SIMPLEX\n",
    "        cv2.rectangle(frame,(x_min-1, y_min+10), (x_max+1, y_min-50), (0, 255, 255), -2)\n",
    "        #cv2.putText(frame, pred, (x_min, y_min), font, 2, (0 ,0 ,0), 2)\n",
    "        frame = putArabicText(frame, pred, (x_min, y_min-50))\n",
    "        cv2.imshow('img', frame)\n",
    "    \n",
    "    key = cv2.waitKey(1) & 0xFF\n",
    "    if key==ord('q'):\n",
    "        break\n",
    "        \n",
    "cap.release()\n",
    "cv2.destroyAllWindows()"
   ]
  },
  {
   "cell_type": "code",
   "execution_count": 28,
   "metadata": {},
   "outputs": [],
   "source": [
    "#pip install arabic_reshaper\n",
    "#pip install python-bidi"
   ]
  },
  {
   "cell_type": "code",
   "execution_count": null,
   "metadata": {},
   "outputs": [],
   "source": []
  }
 ],
 "metadata": {
  "kernelspec": {
   "display_name": "Python 3",
   "language": "python",
   "name": "python3"
  },
  "language_info": {
   "codemirror_mode": {
    "name": "ipython",
    "version": 3
   },
   "file_extension": ".py",
   "mimetype": "text/x-python",
   "name": "python",
   "nbconvert_exporter": "python",
   "pygments_lexer": "ipython3",
   "version": "3.8.5"
  }
 },
 "nbformat": 4,
 "nbformat_minor": 2
}
