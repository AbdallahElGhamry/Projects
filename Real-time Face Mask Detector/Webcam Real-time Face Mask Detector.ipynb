{
 "cells": [
  {
   "cell_type": "markdown",
   "metadata": {},
   "source": [
    "# Real-time Face Mask Detector"
   ]
  },
  {
   "cell_type": "markdown",
   "metadata": {},
   "source": [
    "## Importing the libraries"
   ]
  },
  {
   "cell_type": "code",
   "execution_count": 1,
   "metadata": {},
   "outputs": [],
   "source": [
    "import cv2\n",
    "import numpy as np\n",
    "from keras.models import load_model\n",
    "from keras.preprocessing.image import img_to_array"
   ]
  },
  {
   "cell_type": "markdown",
   "metadata": {},
   "source": [
    "## Loading the trained model"
   ]
  },
  {
   "cell_type": "code",
   "execution_count": 2,
   "metadata": {},
   "outputs": [],
   "source": [
    "model = load_model(\"model.h5\")"
   ]
  },
  {
   "cell_type": "code",
   "execution_count": 3,
   "metadata": {},
   "outputs": [],
   "source": [
    "def classify(image):\n",
    "    \n",
    "    # Image Preprocessing\n",
    "    image = cv2.resize(image, (64, 64))\n",
    "    image = image.astype(\"float\") / 255.0\n",
    "    image = img_to_array(image)\n",
    "    image = np.expand_dims(image, axis=0)\n",
    "    \n",
    "    # Predicting the class\n",
    "    proba = model.predict(image)\n",
    "    label = proba > 0.5\n",
    "    label = int(label[0][0])\n",
    "    \n",
    "    p = proba[0][0]\n",
    "    if(proba <= 0.5):\n",
    "        p = 1 - p\n",
    "    \n",
    "    p = p * 100\n",
    "    p = np.round(p, 2)\n",
    "    \n",
    "    return p, label"
   ]
  },
  {
   "cell_type": "markdown",
   "metadata": {},
   "source": [
    "## Loading the Haar Cascade font face detector"
   ]
  },
  {
   "cell_type": "code",
   "execution_count": 4,
   "metadata": {},
   "outputs": [],
   "source": [
    "classifier = cv2.CascadeClassifier('haarcascade_frontalface_default.xml')"
   ]
  },
  {
   "cell_type": "markdown",
   "metadata": {},
   "source": [
    "## Web Cam"
   ]
  },
  {
   "cell_type": "code",
   "execution_count": 5,
   "metadata": {},
   "outputs": [],
   "source": [
    "color = {1: (71, 99, 255), 0: (0, 255, 0)}\n",
    "text = {1: \"No Mask\", 0: \"Mask\"}\n",
    "\n",
    "# Use camera 0\n",
    "cap = cv2.VideoCapture(0) \n",
    "\n",
    "while True:\n",
    "    # Get the next frame\n",
    "    ret, im = cap.read()\n",
    "    \n",
    "    # Flip the frame\n",
    "    im = cv2.flip(im, 1)\n",
    "    \n",
    "    # Converting the frame to grayscale\n",
    "    gray = cv2.cvtColor(im, cv2.COLOR_BGR2GRAY)\n",
    "    #gray = cv2.GaussianBlur(gray, (5,5),0)\n",
    "    \n",
    "    # Detect Multi faces \n",
    "    faces = classifier.detectMultiScale(gray)\n",
    "    \n",
    "    \n",
    "    label = \"\"\n",
    "    face_img = np.array([])\n",
    "    \n",
    "    for f in faces:\n",
    "        x, y, w, h = f\n",
    "        \n",
    "        # Extract face\n",
    "        face = im[y:y+h, x:x+w]\n",
    "        face = cv2.cvtColor(face, cv2.COLOR_BGR2RGB)\n",
    "        \n",
    "        if face_img.ndim > 0:\n",
    "            p, label = classify(face)\n",
    "            \n",
    "        frame_text = text[label] #+ ' ' + str(p) \n",
    "\n",
    "        # Draw a labeled rectangle around each face in the frame\n",
    "        cv2.rectangle(im, (x,y), (x+w,y+h), color[label], 2)\n",
    "        cv2.rectangle(im, (x-1,y-40), (x+w+1,y), color[label], -2)\n",
    "        cv2.putText(im, frame_text, (x+2, y-10), cv2.FONT_HERSHEY_SIMPLEX, 0.8 ,(255,255,255), 2)\n",
    "    \n",
    "    # Display the frame\n",
    "    cv2.imshow('Real-time Face Mask Detector', im)\n",
    "    key = cv2.waitKey(1)\n",
    "    \n",
    "    # Break out of the loop if Esc key is pressd\n",
    "    if key == 27:\n",
    "        break\n",
    "        \n",
    "# Stop video\n",
    "cap.release()\n",
    "\n",
    "# Close all windows\n",
    "cv2.destroyAllWindows()"
   ]
  },
  {
   "cell_type": "code",
   "execution_count": null,
   "metadata": {},
   "outputs": [],
   "source": []
  }
 ],
 "metadata": {
  "kernelspec": {
   "display_name": "Python 3",
   "language": "python",
   "name": "python3"
  },
  "language_info": {
   "codemirror_mode": {
    "name": "ipython",
    "version": 3
   },
   "file_extension": ".py",
   "mimetype": "text/x-python",
   "name": "python",
   "nbconvert_exporter": "python",
   "pygments_lexer": "ipython3",
   "version": "3.8.5"
  }
 },
 "nbformat": 4,
 "nbformat_minor": 4
}
